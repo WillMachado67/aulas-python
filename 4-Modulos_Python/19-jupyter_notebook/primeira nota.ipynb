{
 "cells": [
  {
   "cell_type": "code",
   "execution_count": 1,
   "id": "c069d047",
   "metadata": {},
   "outputs": [],
   "source": [
    "lista = [1,2,3,4,5,6,7,8,9]"
   ]
  },
  {
   "cell_type": "code",
   "execution_count": 2,
   "id": "cddf7f3a",
   "metadata": {},
   "outputs": [
    {
     "data": {
      "text/plain": [
       "[1, 2, 3, 4, 5, 6, 7, 8, 9]"
      ]
     },
     "execution_count": 2,
     "metadata": {},
     "output_type": "execute_result"
    }
   ],
   "source": [
    "lista"
   ]
  },
  {
   "cell_type": "code",
   "execution_count": 3,
   "id": "805178ee",
   "metadata": {},
   "outputs": [],
   "source": [
    "a = 5\n",
    "b = 6"
   ]
  },
  {
   "cell_type": "code",
   "execution_count": 4,
   "id": "61e5135c",
   "metadata": {},
   "outputs": [
    {
     "name": "stdout",
     "output_type": "stream",
     "text": [
      "11\n"
     ]
    }
   ],
   "source": [
    "print(a+b)"
   ]
  },
  {
   "cell_type": "code",
   "execution_count": 5,
   "id": "8608165f",
   "metadata": {},
   "outputs": [
    {
     "data": {
      "text/plain": [
       "11"
      ]
     },
     "execution_count": 5,
     "metadata": {},
     "output_type": "execute_result"
    }
   ],
   "source": [
    "a + b"
   ]
  },
  {
   "cell_type": "markdown",
   "id": "afb7f0bc",
   "metadata": {},
   "source": [
    "# Este é meu titulo\n",
    "este é meu texto"
   ]
  },
  {
   "cell_type": "markdown",
   "id": "08716e72",
   "metadata": {},
   "source": [
    "# Este é meu título\n",
    "este é meu texto\n",
    "## Este é outro título\n",
    "outro texto"
   ]
  },
  {
   "cell_type": "markdown",
   "id": "4ed18617",
   "metadata": {},
   "source": [
    "# Este é meu título\n",
    "este é meu texto\n",
    "\n",
    "## Este é outro título\n",
    "outro texto\n",
    "\n",
    "\n",
    "*uma lista\n",
    "*outra linha\n",
    "*outra linha"
   ]
  },
  {
   "cell_type": "markdown",
   "id": "17d686ea",
   "metadata": {},
   "source": [
    "# Este é meu título\n",
    "este é meu texto\n",
    "\n",
    "## Este é outro título\n",
    "outro texto\n",
    "\n",
    "* uma lista \n",
    "* outra linha \n",
    "* outra linha"
   ]
  },
  {
   "cell_type": "code",
   "execution_count": 6,
   "id": "65ba2f60",
   "metadata": {},
   "outputs": [
    {
     "data": {
      "text/html": [
       "<p> Um <strong>texto</strong> qualque</p>\n"
      ],
      "text/plain": [
       "<IPython.core.display.HTML object>"
      ]
     },
     "metadata": {},
     "output_type": "display_data"
    }
   ],
   "source": [
    "%%HTML\n",
    "<p> Um <strong>texto</strong> qualque</p>"
   ]
  },
  {
   "cell_type": "code",
   "execution_count": null,
   "id": "d20b0979",
   "metadata": {},
   "outputs": [],
   "source": []
  }
 ],
 "metadata": {
  "kernelspec": {
   "display_name": "Python 3 (ipykernel)",
   "language": "python",
   "name": "python3"
  },
  "language_info": {
   "codemirror_mode": {
    "name": "ipython",
    "version": 3
   },
   "file_extension": ".py",
   "mimetype": "text/x-python",
   "name": "python",
   "nbconvert_exporter": "python",
   "pygments_lexer": "ipython3",
   "version": "3.11.0"
  }
 },
 "nbformat": 4,
 "nbformat_minor": 5
}
